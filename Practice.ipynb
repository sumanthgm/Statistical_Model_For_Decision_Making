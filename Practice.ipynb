{
  "nbformat": 4,
  "nbformat_minor": 0,
  "metadata": {
    "colab": {
      "provenance": [],
      "authorship_tag": "ABX9TyMtp48cBZxP+6gkYPmAFtNO",
      "include_colab_link": true
    },
    "kernelspec": {
      "name": "python3",
      "display_name": "Python 3"
    },
    "language_info": {
      "name": "python"
    }
  },
  "cells": [
    {
      "cell_type": "markdown",
      "metadata": {
        "id": "view-in-github",
        "colab_type": "text"
      },
      "source": [
        "<a href=\"https://colab.research.google.com/github/sumanthgm/Statistical_Model_For_Decision_Making/blob/main/Practice.ipynb\" target=\"_parent\"><img src=\"https://colab.research.google.com/assets/colab-badge.svg\" alt=\"Open In Colab\"/></a>"
      ]
    },
    {
      "cell_type": "code",
      "execution_count": null,
      "metadata": {
        "id": "zoTW53sSrh4o"
      },
      "outputs": [],
      "source": []
    },
    {
      "cell_type": "markdown",
      "source": [
        "Descriptive Stastics"
      ],
      "metadata": {
        "id": "43__RdZ_5jJJ"
      }
    },
    {
      "cell_type": "markdown",
      "source": [
        "Import Libraries"
      ],
      "metadata": {
        "id": "Zy7kYYIQ34ia"
      }
    },
    {
      "cell_type": "code",
      "source": [],
      "metadata": {
        "id": "0q0GNfDw6I_o"
      },
      "execution_count": null,
      "outputs": []
    },
    {
      "cell_type": "code",
      "source": [
        "import pandas as pd\n",
        "import numpy as np\n",
        "import matplotlib.pyplot as plt\n",
        "from matplotlib import gridspec\n",
        "%matplotlib inline\n",
        "\n",
        "import seaborn as sns\n",
        "\n",
        "from warnings import filterwarnings\n",
        "filterwarnings('ignore')\n",
        "\n",
        "from math import factorial\n",
        "\n",
        "from scipy import stats\n",
        "from scipy.stats import skewnorm\n",
        "from scipy.stats import randint\n",
        "\n",
        "import random\n",
        "\n"
      ],
      "metadata": {
        "id": "yJ6BoKjL36TN"
      },
      "execution_count": 9,
      "outputs": []
    },
    {
      "cell_type": "code",
      "source": [
        "### Example:\n",
        "\n",
        "#### 1. A manager handles 12 branches of a supermarket situated in the U.S.A. Consider one day sale (in dollars) of all the branches. Calculate the mean and median to find the average sale.\n",
        "\n",
        ""
      ],
      "metadata": {
        "id": "HZRQ-_iU6Jic"
      },
      "execution_count": null,
      "outputs": []
    },
    {
      "cell_type": "markdown",
      "source": [],
      "metadata": {
        "id": "TMi4DDht6vLg"
      }
    },
    {
      "cell_type": "code",
      "source": [
        "sale = [165, 182, 140, 193, 172, 168, 174, 124, 187, 204, 148, 175]\n",
        "mean=np.mean(sale)\n",
        "print(mean)\n",
        "median=np.median(sale)\n",
        "print(median)\n",
        "# mode=np.mode(sale)\n",
        "# print(mode)\n"
      ],
      "metadata": {
        "colab": {
          "base_uri": "https://localhost:8080/",
          "height": 228
        },
        "id": "w6gTc8nl6KeN",
        "outputId": "2911b3d6-8984-491a-fcd1-a185280976ed"
      },
      "execution_count": 18,
      "outputs": [
        {
          "output_type": "stream",
          "name": "stdout",
          "text": [
            "169.33333333333334\n",
            "173.0\n"
          ]
        },
        {
          "output_type": "error",
          "ename": "AttributeError",
          "evalue": "'list' object has no attribute 'describe'",
          "traceback": [
            "\u001b[0;31m---------------------------------------------------------------------------\u001b[0m",
            "\u001b[0;31mAttributeError\u001b[0m                            Traceback (most recent call last)",
            "\u001b[0;32m<ipython-input-18-7e8817f77590>\u001b[0m in \u001b[0;36m<cell line: 0>\u001b[0;34m()\u001b[0m\n\u001b[1;32m      6\u001b[0m \u001b[0;31m# mode=np.mode(sale)\u001b[0m\u001b[0;34m\u001b[0m\u001b[0;34m\u001b[0m\u001b[0m\n\u001b[1;32m      7\u001b[0m \u001b[0;31m# print(mode)\u001b[0m\u001b[0;34m\u001b[0m\u001b[0;34m\u001b[0m\u001b[0m\n\u001b[0;32m----> 8\u001b[0;31m \u001b[0msale\u001b[0m\u001b[0;34m.\u001b[0m\u001b[0mdescribe\u001b[0m\u001b[0;34m(\u001b[0m\u001b[0;34m)\u001b[0m\u001b[0;34m\u001b[0m\u001b[0;34m\u001b[0m\u001b[0m\n\u001b[0m\u001b[1;32m      9\u001b[0m \u001b[0mprint\u001b[0m\u001b[0;34m(\u001b[0m\u001b[0;34m)\u001b[0m\u001b[0;34m\u001b[0m\u001b[0;34m\u001b[0m\u001b[0m\n",
            "\u001b[0;31mAttributeError\u001b[0m: 'list' object has no attribute 'describe'"
          ]
        }
      ]
    },
    {
      "cell_type": "code",
      "source": [
        "# Mesures of disperssion\n",
        "sale = [165, 182, 140, 193, 172, 168, 174, 124, 187, 204, 148, 175]\n",
        "\n",
        "# find std\n",
        "std= np.std(sale)\n",
        "print(std)\n",
        "\n",
        "Q1_sale=np.quantile(a= sale, q=0.25)\n",
        "Q3_sale=np.quantile(a= sale, q=0.75)\n",
        "IQR= (Q3_sale-Q1_sale)\n",
        "print(IQR)"
      ],
      "metadata": {
        "colab": {
          "base_uri": "https://localhost:8080/"
        },
        "id": "yQ5oPX558Vjg",
        "outputId": "fc31a854-91c0-42db-a793-3f379ef65981"
      },
      "execution_count": 25,
      "outputs": [
        {
          "output_type": "stream",
          "name": "stdout",
          "text": [
            "21.76898915634093\n",
            "22.5\n"
          ]
        }
      ]
    },
    {
      "cell_type": "markdown",
      "source": [
        "Skewness and Kurtosis"
      ],
      "metadata": {
        "id": "9gdYMi3b_CiN"
      }
    },
    {
      "cell_type": "code",
      "source": [
        "sale = [165, 182, 140, 193, 172, 168, 174, 124, 187, 204, 148, 175]\n",
        "# skew\n",
        "skew= stats.skew(sale)\n",
        "print(skew)\n",
        "# kurtosis\n",
        "kurt=stats.kurtosis(sale)\n",
        "print(kurt)\n"
      ],
      "metadata": {
        "colab": {
          "base_uri": "https://localhost:8080/"
        },
        "id": "fDOSP8ch_DcH",
        "outputId": "bdf90b56-47f7-4d4f-ae8b-d3000a7f1dbc"
      },
      "execution_count": 29,
      "outputs": [
        {
          "output_type": "stream",
          "name": "stdout",
          "text": [
            "-0.5285526567587567\n",
            "-0.38240010775017863\n"
          ]
        }
      ]
    },
    {
      "cell_type": "markdown",
      "source": [
        "Covariation & Covariance"
      ],
      "metadata": {
        "id": "DW9avJiKCDUT"
      }
    },
    {
      "cell_type": "code",
      "source": [
        "sale = pd.Series([165, 182, 140, 193, 172, 168, 174, 124, 187, 204, 148, 175])\n",
        "working_hrs = pd.Series([7, 8.5, 8, 10, 9, 8, 8.5, 7.5, 9.5, 8.5, 8, 9])\n",
        "\n",
        "\n",
        "corr_coeff= working_hrs.corr(sale)\n",
        "print(corr_coeff)"
      ],
      "metadata": {
        "colab": {
          "base_uri": "https://localhost:8080/"
        },
        "id": "wFzstNBjCH4p",
        "outputId": "ca9b088e-c1bd-44ad-aede-cbee5bae8479"
      },
      "execution_count": 30,
      "outputs": [
        {
          "output_type": "stream",
          "name": "stdout",
          "text": [
            "0.6447248082202144\n"
          ]
        }
      ]
    }
  ]
}